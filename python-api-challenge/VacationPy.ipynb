{
 "cells": [
  {
   "cell_type": "markdown",
   "metadata": {},
   "source": [
    "# VacationPy\n",
    "---\n",
    "\n",
    "## Starter Code to Import Libraries and Load the Weather and Coordinates Data"
   ]
  },
  {
   "cell_type": "code",
   "execution_count": 21,
   "metadata": {},
   "outputs": [],
   "source": [
    "# Dependencies and Setup\n",
    "import hvplot.pandas\n",
    "import pandas as pd\n",
    "import requests\n",
    "\n",
    "# Import API key\n",
    "from api_keys import geoapify_key"
   ]
  },
  {
   "cell_type": "code",
   "execution_count": 22,
   "metadata": {},
   "outputs": [
    {
     "data": {
      "text/html": [
       "<div>\n",
       "<style scoped>\n",
       "    .dataframe tbody tr th:only-of-type {\n",
       "        vertical-align: middle;\n",
       "    }\n",
       "\n",
       "    .dataframe tbody tr th {\n",
       "        vertical-align: top;\n",
       "    }\n",
       "\n",
       "    .dataframe thead th {\n",
       "        text-align: right;\n",
       "    }\n",
       "</style>\n",
       "<table border=\"1\" class=\"dataframe\">\n",
       "  <thead>\n",
       "    <tr style=\"text-align: right;\">\n",
       "      <th></th>\n",
       "      <th>City_ID</th>\n",
       "      <th>City</th>\n",
       "      <th>Lat</th>\n",
       "      <th>Lng</th>\n",
       "      <th>Max Temp</th>\n",
       "      <th>Humidity</th>\n",
       "      <th>Cloudiness</th>\n",
       "      <th>Wind Speed</th>\n",
       "      <th>Country</th>\n",
       "      <th>Date</th>\n",
       "    </tr>\n",
       "  </thead>\n",
       "  <tbody>\n",
       "    <tr>\n",
       "      <th>0</th>\n",
       "      <td>0</td>\n",
       "      <td>kodiak</td>\n",
       "      <td>57.7900</td>\n",
       "      <td>-152.4072</td>\n",
       "      <td>279.88</td>\n",
       "      <td>87</td>\n",
       "      <td>100</td>\n",
       "      <td>5.66</td>\n",
       "      <td>US</td>\n",
       "      <td>1733817421</td>\n",
       "    </tr>\n",
       "    <tr>\n",
       "      <th>1</th>\n",
       "      <td>1</td>\n",
       "      <td>waitangi</td>\n",
       "      <td>-43.9535</td>\n",
       "      <td>-176.5597</td>\n",
       "      <td>288.61</td>\n",
       "      <td>93</td>\n",
       "      <td>4</td>\n",
       "      <td>0.45</td>\n",
       "      <td>NZ</td>\n",
       "      <td>1733817422</td>\n",
       "    </tr>\n",
       "    <tr>\n",
       "      <th>2</th>\n",
       "      <td>2</td>\n",
       "      <td>ilulissat</td>\n",
       "      <td>69.2167</td>\n",
       "      <td>-51.1000</td>\n",
       "      <td>269.16</td>\n",
       "      <td>58</td>\n",
       "      <td>100</td>\n",
       "      <td>8.75</td>\n",
       "      <td>GL</td>\n",
       "      <td>1733817422</td>\n",
       "    </tr>\n",
       "    <tr>\n",
       "      <th>3</th>\n",
       "      <td>3</td>\n",
       "      <td>puerto natales</td>\n",
       "      <td>-51.7236</td>\n",
       "      <td>-72.4875</td>\n",
       "      <td>278.06</td>\n",
       "      <td>93</td>\n",
       "      <td>100</td>\n",
       "      <td>1.81</td>\n",
       "      <td>CL</td>\n",
       "      <td>1733817422</td>\n",
       "    </tr>\n",
       "    <tr>\n",
       "      <th>4</th>\n",
       "      <td>4</td>\n",
       "      <td>kupang</td>\n",
       "      <td>-10.1667</td>\n",
       "      <td>123.5833</td>\n",
       "      <td>301.47</td>\n",
       "      <td>89</td>\n",
       "      <td>75</td>\n",
       "      <td>3.09</td>\n",
       "      <td>ID</td>\n",
       "      <td>1733817422</td>\n",
       "    </tr>\n",
       "  </tbody>\n",
       "</table>\n",
       "</div>"
      ],
      "text/plain": [
       "   City_ID            City      Lat       Lng  Max Temp  Humidity  Cloudiness  \\\n",
       "0        0          kodiak  57.7900 -152.4072    279.88        87         100   \n",
       "1        1        waitangi -43.9535 -176.5597    288.61        93           4   \n",
       "2        2       ilulissat  69.2167  -51.1000    269.16        58         100   \n",
       "3        3  puerto natales -51.7236  -72.4875    278.06        93         100   \n",
       "4        4          kupang -10.1667  123.5833    301.47        89          75   \n",
       "\n",
       "   Wind Speed Country        Date  \n",
       "0        5.66      US  1733817421  \n",
       "1        0.45      NZ  1733817422  \n",
       "2        8.75      GL  1733817422  \n",
       "3        1.81      CL  1733817422  \n",
       "4        3.09      ID  1733817422  "
      ]
     },
     "execution_count": 22,
     "metadata": {},
     "output_type": "execute_result"
    }
   ],
   "source": [
    "# Load the CSV file created in Part 1 into a Pandas DataFrame\n",
    "city_data_df = pd.read_csv(\"output_data/cities.csv\")\n",
    "\n",
    "# Display sample data\n",
    "city_data_df.head()"
   ]
  },
  {
   "cell_type": "markdown",
   "metadata": {},
   "source": [
    "---\n",
    "\n",
    "### Step 1: Create a map that displays a point for every city in the `city_data_df` DataFrame. The size of the point should be the humidity in each city."
   ]
  },
  {
   "cell_type": "code",
   "execution_count": 23,
   "metadata": {},
   "outputs": [
    {
     "data": {},
     "metadata": {},
     "output_type": "display_data"
    },
    {
     "data": {
      "application/vnd.holoviews_exec.v0+json": "",
      "text/html": [
       "<div id='p1341'>\n",
       "  <div id=\"efb0df17-8c97-4a9a-9f9e-f3393807e6eb\" data-root-id=\"p1341\" style=\"display: contents;\"></div>\n",
       "</div>\n",
       "<script type=\"application/javascript\">(function(root) {\n",
       "  var docs_json = {\"d9d0fe29-3e4b-42e2-a3c9-d33b1f0dd721\":{\"version\":\"3.4.1\",\"title\":\"Bokeh Application\",\"roots\":[{\"type\":\"object\",\"name\":\"Row\",\"id\":\"p1341\",\"attributes\":{\"name\":\"Row02116\",\"tags\":[\"embedded\"],\"stylesheets\":[\"\\n:host(.pn-loading):before, .pn-loading:before {\\n  background-color: #c3c3c3;\\n  mask-size: auto calc(min(50%, 400px));\\n  -webkit-mask-size: auto calc(min(50%, 400px));\\n}\",{\"type\":\"object\",\"name\":\"ImportedStyleSheet\",\"id\":\"p1344\",\"attributes\":{\"url\":\"https://cdn.holoviz.org/panel/1.4.4/dist/css/loading.css\"}},{\"type\":\"object\",\"name\":\"ImportedStyleSheet\",\"id\":\"p1444\",\"attributes\":{\"url\":\"https://cdn.holoviz.org/panel/1.4.4/dist/css/listpanel.css\"}},{\"type\":\"object\",\"name\":\"ImportedStyleSheet\",\"id\":\"p1342\",\"attributes\":{\"url\":\"https://cdn.holoviz.org/panel/1.4.4/dist/bundled/theme/default.css\"}},{\"type\":\"object\",\"name\":\"ImportedStyleSheet\",\"id\":\"p1343\",\"attributes\":{\"url\":\"https://cdn.holoviz.org/panel/1.4.4/dist/bundled/theme/native.css\"}}],\"margin\":0,\"sizing_mode\":\"stretch_width\",\"align\":\"start\",\"children\":[{\"type\":\"object\",\"name\":\"Spacer\",\"id\":\"p1345\",\"attributes\":{\"name\":\"HSpacer02122\",\"stylesheets\":[\"\\n:host(.pn-loading):before, .pn-loading:before {\\n  background-color: #c3c3c3;\\n  mask-size: auto calc(min(50%, 400px));\\n  -webkit-mask-size: auto calc(min(50%, 400px));\\n}\",{\"id\":\"p1344\"},{\"id\":\"p1342\"},{\"id\":\"p1343\"}],\"margin\":0,\"sizing_mode\":\"stretch_width\",\"align\":\"start\"}},{\"type\":\"object\",\"name\":\"Figure\",\"id\":\"p1384\",\"attributes\":{\"width\":null,\"height\":null,\"margin\":[5,10],\"sizing_mode\":\"fixed\",\"align\":\"start\",\"x_range\":{\"type\":\"object\",\"name\":\"Range1d\",\"id\":\"p1355\",\"attributes\":{\"tags\":[[[\"Longitude\",null]],[]],\"start\":-22473812.400082186,\"end\":22634613.404533062,\"reset_start\":-22473812.400082186,\"reset_end\":22634613.404533062,\"min_interval\":5}},\"y_range\":{\"type\":\"object\",\"name\":\"Range1d\",\"id\":\"p1356\",\"attributes\":{\"tags\":[[[\"Latitude\",null]],{\"type\":\"map\",\"entries\":[[\"invert_yaxis\",false],[\"autorange\",false]]}],\"start\":-12528330.553479139,\"end\":19691973.59267461,\"reset_start\":-12528330.553479139,\"reset_end\":19691973.59267461,\"min_interval\":5}},\"x_scale\":{\"type\":\"object\",\"name\":\"LinearScale\",\"id\":\"p1394\"},\"y_scale\":{\"type\":\"object\",\"name\":\"LinearScale\",\"id\":\"p1395\"},\"title\":{\"type\":\"object\",\"name\":\"Title\",\"id\":\"p1387\",\"attributes\":{\"text\":\"City Humidity Map\",\"text_color\":\"black\",\"text_font_size\":\"12pt\"}},\"renderers\":[{\"type\":\"object\",\"name\":\"TileRenderer\",\"id\":\"p1417\",\"attributes\":{\"level\":\"underlay\",\"tile_source\":{\"type\":\"object\",\"name\":\"WMTSTileSource\",\"id\":\"p1413\",\"attributes\":{\"url\":\"https://c.tile.openstreetmap.org/{Z}/{X}/{Y}.png\",\"attribution\":\"&copy; <a href=\\\"https://www.openstreetmap.org/copyright\\\">OpenStreetMap</a> contributors\"}}}},{\"type\":\"object\",\"name\":\"GlyphRenderer\",\"id\":\"p1433\",\"attributes\":{\"data_source\":{\"type\":\"object\",\"name\":\"ColumnDataSource\",\"id\":\"p1422\",\"attributes\":{\"selected\":{\"type\":\"object\",\"name\":\"Selection\",\"id\":\"p1423\",\"attributes\":{\"indices\":[],\"line_indices\":[]}},\"selection_policy\":{\"type\":\"object\",\"name\":\"UnionRenderers\",\"id\":\"p1424\"},\"data\":{\"type\":\"map\",\"entries\":[[\"Lng\",{\"type\":\"ndarray\",\"array\":{\"type\":\"bytes\",\"data\":\"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\"},\"shape\":[603],\"dtype\":\"float64\",\"order\":\"little\"}],[\"Lat\",{\"type\":\"ndarray\",\"array\":{\"type\":\"bytes\",\"data\":\"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\"},\"shape\":[603],\"dtype\":\"float64\",\"order\":\"little\"}],[\"Humidity\",{\"type\":\"ndarray\",\"array\":{\"type\":\"bytes\",\"data\":\"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\"},\"shape\":[603],\"dtype\":\"int32\",\"order\":\"little\"}],[\"color\",{\"type\":\"ndarray\",\"array\":{\"type\":\"bytes\",\"data\":\"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\"},\"shape\":[603],\"dtype\":\"int32\",\"order\":\"little\"}],[\"size\",{\"type\":\"ndarray\",\"array\":{\"type\":\"bytes\",\"data\":\"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\"},\"shape\":[603],\"dtype\":\"float64\",\"order\":\"little\"}]]}}},\"view\":{\"type\":\"object\",\"name\":\"CDSView\",\"id\":\"p1434\",\"attributes\":{\"filter\":{\"type\":\"object\",\"name\":\"AllIndices\",\"id\":\"p1435\"}}},\"glyph\":{\"type\":\"object\",\"name\":\"Scatter\",\"id\":\"p1428\",\"attributes\":{\"tags\":[\"apply_ranges\"],\"x\":{\"type\":\"field\",\"field\":\"Lng\"},\"y\":{\"type\":\"field\",\"field\":\"Lat\"},\"size\":{\"type\":\"field\",\"field\":\"size\"},\"line_color\":{\"type\":\"field\",\"field\":\"color\",\"transform\":{\"type\":\"object\",\"name\":\"LinearColorMapper\",\"id\":\"p1421\",\"attributes\":{\"palette\":[\"#b3fef5\",\"#b0fef5\",\"#adfdf5\",\"#a9fcf5\",\"#a6fbf6\",\"#a3faf6\",\"#a0faf6\",\"#9df9f6\",\"#9af8f6\",\"#97f7f6\",\"#93f7f6\",\"#90f6f6\",\"#8df5f6\",\"#8af4f7\",\"#87f3f7\",\"#83f2f7\",\"#80f2f7\",\"#7df1f7\",\"#79f0f7\",\"#76eff7\",\"#73eef7\",\"#6fedf8\",\"#6cecf8\",\"#68ecf8\",\"#65ebf8\",\"#61eaf8\",\"#5ee9f8\",\"#5ae8f8\",\"#57e7f8\",\"#53e6f8\",\"#50e5f9\",\"#4ce4f9\",\"#49e3f9\",\"#45e2f9\",\"#42e1f9\",\"#3ee0f9\",\"#3bdff9\",\"#38def9\",\"#35ddf9\",\"#32dcf9\",\"#30dbfa\",\"#2ed9fa\",\"#2dd8fa\",\"#2cd7fa\",\"#2bd6fa\",\"#2bd5fa\",\"#2ad3fa\",\"#2ad2fa\",\"#29d1fa\",\"#29d0fb\",\"#29cffb\",\"#28cdfb\",\"#28ccfb\",\"#28cbfb\",\"#28cafb\",\"#28c8fb\",\"#28c7fb\",\"#29c6fb\",\"#29c5fb\",\"#29c4fb\",\"#29c2fb\",\"#2ac1fb\",\"#2ac0fb\",\"#2bbffb\",\"#2bbdfc\",\"#2cbcfc\",\"#2dbbfc\",\"#2db9fc\",\"#2eb8fc\",\"#2fb7fc\",\"#2fb6fc\",\"#30b4fc\",\"#31b3fc\",\"#32b2fc\",\"#32b0fc\",\"#33affc\",\"#33aefc\",\"#34adfc\",\"#34abfc\",\"#34aafc\",\"#35a9fc\",\"#35a8fc\",\"#35a6fc\",\"#35a5fc\",\"#35a4fc\",\"#35a3fc\",\"#35a1fc\",\"#35a0fc\",\"#359ffc\",\"#359dfc\",\"#359cfc\",\"#359bfc\",\"#349afd\",\"#3498fd\",\"#3497fd\",\"#3396fd\",\"#3395fd\",\"#3293fd\",\"#3292fd\",\"#3191fd\",\"#3090fd\",\"#308ffd\",\"#2f8dfd\",\"#2f8cfd\",\"#2e8bfd\",\"#2e8afd\",\"#2d88fd\",\"#2d87fd\",\"#2c86fd\",\"#2c84fd\",\"#2c83fd\",\"#2c82fd\",\"#2b81fd\",\"#2b7ffd\",\"#2b7efd\",\"#2b7dfd\",\"#2b7bfd\",\"#2b7afd\",\"#2b79fd\",\"#2b77fd\",\"#2b76fd\",\"#2b75fd\",\"#2b73fd\",\"#2c72fd\",\"#2c71fd\",\"#2c6ffd\",\"#2c6efd\",\"#2d6cfd\",\"#2d6bfd\",\"#2d6afc\",\"#2e68fc\",\"#2e67fc\",\"#2e65fc\",\"#2e64fc\",\"#2f62fc\",\"#2f61fc\",\"#2f5ffc\",\"#2f5efc\",\"#2f5dfc\",\"#2f5bfc\",\"#2f5afc\",\"#2f58fb\",\"#2f57fb\",\"#2f55fb\",\"#2f53fb\",\"#2f52fb\",\"#2f50fb\",\"#2f4ffb\",\"#2f4dfb\",\"#2e4cfb\",\"#2e4afb\",\"#2e48fb\",\"#2e47fa\",\"#2d45fa\",\"#2d43fa\",\"#2d42fa\",\"#2d40fa\",\"#2c3efa\",\"#2c3dfa\",\"#2b3bf9\",\"#2b39f9\",\"#2a37f9\",\"#2a36f8\",\"#2934f8\",\"#2832f7\",\"#2831f7\",\"#272ff6\",\"#262ef5\",\"#252cf5\",\"#252af4\",\"#2429f3\",\"#2327f2\",\"#2226f1\",\"#2124f0\",\"#2023ef\",\"#1f22ee\",\"#1e20ed\",\"#1d1feb\",\"#1c1eea\",\"#1b1ce9\",\"#1a1be7\",\"#181ae6\",\"#1719e5\",\"#1618e3\",\"#1417e1\",\"#1316e0\",\"#1215de\",\"#1014dc\",\"#0f13db\",\"#0e12d9\",\"#0d11d7\",\"#0c10d5\",\"#0b0fd3\",\"#0a0ed1\",\"#090dd0\",\"#080dce\",\"#080ccc\",\"#070bca\",\"#070ac8\",\"#0709c6\",\"#0708c4\",\"#0707c2\",\"#0707bf\",\"#0806bd\",\"#0806bb\",\"#0905b9\",\"#0904b7\",\"#0a04b5\",\"#0a04b2\",\"#0b03b0\",\"#0c03ae\",\"#0d02ab\",\"#0e02a9\",\"#0e02a7\",\"#0f02a4\",\"#0f01a2\",\"#1001a0\",\"#10019d\",\"#10019b\",\"#100199\",\"#100197\",\"#100194\",\"#0f0192\",\"#0f0190\",\"#0f018e\",\"#0e018b\",\"#0e0189\",\"#0d0187\",\"#0d0185\",\"#0c0183\",\"#0b0181\",\"#0b017e\",\"#0a017c\",\"#09017a\",\"#090178\",\"#080276\",\"#070274\",\"#060272\",\"#060270\",\"#05026e\",\"#04026c\",\"#030269\",\"#030267\",\"#020265\",\"#010263\",\"#010261\",\"#00025f\",\"#00025d\",\"#00025b\",\"#000259\",\"#000257\",\"#000255\",\"#000154\",\"#000152\",\"#000150\",\"#00004e\"],\"low\":7,\"high\":100}}},\"fill_color\":{\"type\":\"field\",\"field\":\"color\",\"transform\":{\"id\":\"p1421\"}},\"hatch_color\":{\"type\":\"field\",\"field\":\"color\",\"transform\":{\"id\":\"p1421\"}}}},\"selection_glyph\":{\"type\":\"object\",\"name\":\"Scatter\",\"id\":\"p1430\",\"attributes\":{\"tags\":[\"apply_ranges\"],\"x\":{\"type\":\"field\",\"field\":\"Lng\"},\"y\":{\"type\":\"field\",\"field\":\"Lat\"},\"size\":{\"type\":\"field\",\"field\":\"size\"},\"line_color\":{\"type\":\"field\",\"field\":\"color\",\"transform\":{\"id\":\"p1421\"}},\"fill_color\":{\"type\":\"field\",\"field\":\"color\",\"transform\":{\"id\":\"p1421\"}},\"hatch_color\":{\"type\":\"field\",\"field\":\"color\",\"transform\":{\"id\":\"p1421\"}}}},\"nonselection_glyph\":{\"type\":\"object\",\"name\":\"Scatter\",\"id\":\"p1429\",\"attributes\":{\"tags\":[\"apply_ranges\"],\"x\":{\"type\":\"field\",\"field\":\"Lng\"},\"y\":{\"type\":\"field\",\"field\":\"Lat\"},\"size\":{\"type\":\"field\",\"field\":\"size\"},\"line_color\":{\"type\":\"field\",\"field\":\"color\",\"transform\":{\"id\":\"p1421\"}},\"line_alpha\":{\"type\":\"value\",\"value\":0.1},\"fill_color\":{\"type\":\"field\",\"field\":\"color\",\"transform\":{\"id\":\"p1421\"}},\"fill_alpha\":{\"type\":\"value\",\"value\":0.1},\"hatch_color\":{\"type\":\"field\",\"field\":\"color\",\"transform\":{\"id\":\"p1421\"}},\"hatch_alpha\":{\"type\":\"value\",\"value\":0.1}}},\"hover_glyph\":{\"type\":\"object\",\"name\":\"Scatter\",\"id\":\"p1431\",\"attributes\":{\"tags\":[\"apply_ranges\"],\"x\":{\"type\":\"field\",\"field\":\"Lng\"},\"y\":{\"type\":\"field\",\"field\":\"Lat\"},\"size\":{\"type\":\"field\",\"field\":\"size\"},\"line_color\":{\"type\":\"field\",\"field\":\"color\",\"transform\":{\"id\":\"p1421\"}},\"fill_color\":{\"type\":\"field\",\"field\":\"color\",\"transform\":{\"id\":\"p1421\"}},\"hatch_color\":{\"type\":\"field\",\"field\":\"color\",\"transform\":{\"id\":\"p1421\"}}}},\"muted_glyph\":{\"type\":\"object\",\"name\":\"Scatter\",\"id\":\"p1432\",\"attributes\":{\"tags\":[\"apply_ranges\"],\"x\":{\"type\":\"field\",\"field\":\"Lng\"},\"y\":{\"type\":\"field\",\"field\":\"Lat\"},\"size\":{\"type\":\"field\",\"field\":\"size\"},\"line_color\":{\"type\":\"field\",\"field\":\"color\",\"transform\":{\"id\":\"p1421\"}},\"line_alpha\":{\"type\":\"value\",\"value\":0.2},\"fill_color\":{\"type\":\"field\",\"field\":\"color\",\"transform\":{\"id\":\"p1421\"}},\"fill_alpha\":{\"type\":\"value\",\"value\":0.2},\"hatch_color\":{\"type\":\"field\",\"field\":\"color\",\"transform\":{\"id\":\"p1421\"}},\"hatch_alpha\":{\"type\":\"value\",\"value\":0.2}}}}}],\"toolbar\":{\"type\":\"object\",\"name\":\"Toolbar\",\"id\":\"p1393\",\"attributes\":{\"tools\":[{\"type\":\"object\",\"name\":\"WheelZoomTool\",\"id\":\"p1359\",\"attributes\":{\"renderers\":\"auto\",\"zoom_on_axis\":false}},{\"type\":\"object\",\"name\":\"BoxZoomTool\",\"id\":\"p1365\",\"attributes\":{\"overlay\":{\"type\":\"object\",\"name\":\"BoxAnnotation\",\"id\":\"p1360\",\"attributes\":{\"syncable\":false,\"level\":\"overlay\",\"visible\":false,\"left\":{\"type\":\"number\",\"value\":\"nan\"},\"right\":{\"type\":\"number\",\"value\":\"nan\"},\"top\":{\"type\":\"number\",\"value\":\"nan\"},\"bottom\":{\"type\":\"number\",\"value\":\"nan\"},\"left_units\":\"canvas\",\"right_units\":\"canvas\",\"top_units\":\"canvas\",\"bottom_units\":\"canvas\",\"line_color\":\"black\",\"line_alpha\":1.0,\"line_width\":2,\"line_dash\":[4,4],\"fill_color\":\"lightgrey\",\"fill_alpha\":0.5}},\"match_aspect\":true}},{\"type\":\"object\",\"name\":\"HoverTool\",\"id\":\"p1383\",\"attributes\":{\"tags\":[\"hv_created\"],\"renderers\":[{\"id\":\"p1433\"}],\"tooltips\":[[\"Lng\",\"$x{custom}\"],[\"Lat\",\"$y{custom}\"],[\"Humidity\",\"@{Humidity}\"]],\"formatters\":{\"type\":\"map\",\"entries\":[[\"$x\",{\"type\":\"object\",\"name\":\"CustomJSHover\",\"id\":\"p1439\",\"attributes\":{\"code\":\"\\n        const projections = Bokeh.require(\\\"core/util/projections\\\");\\n        const {snap_x, snap_y} = special_vars\\n        const coords = projections.wgs84_mercator.invert(snap_x, snap_y)\\n        return \\\"\\\" + (coords[0]).toFixed(4)\\n    \"}}],[\"$y\",{\"type\":\"object\",\"name\":\"CustomJSHover\",\"id\":\"p1440\",\"attributes\":{\"code\":\"\\n        const projections = Bokeh.require(\\\"core/util/projections\\\");\\n        const {snap_x, snap_y} = special_vars\\n        const coords = projections.wgs84_mercator.invert(snap_x, snap_y)\\n        return \\\"\\\" + (coords[1]).toFixed(4)\\n    \"}}]]}}},{\"type\":\"object\",\"name\":\"PanTool\",\"id\":\"p1407\"},{\"type\":\"object\",\"name\":\"ResetTool\",\"id\":\"p1408\"}],\"active_drag\":{\"id\":\"p1407\"}}},\"left\":[{\"type\":\"object\",\"name\":\"LinearAxis\",\"id\":\"p1401\",\"attributes\":{\"ticker\":{\"type\":\"object\",\"name\":\"MercatorTicker\",\"id\":\"p1411\",\"attributes\":{\"mantissas\":[1,2,5],\"dimension\":\"lat\"}},\"formatter\":{\"type\":\"object\",\"name\":\"MercatorTickFormatter\",\"id\":\"p1412\",\"attributes\":{\"dimension\":\"lat\"}},\"axis_label\":\"Latitude\",\"major_label_policy\":{\"type\":\"object\",\"name\":\"AllLabels\",\"id\":\"p1404\"}}}],\"right\":[{\"type\":\"object\",\"name\":\"ColorBar\",\"id\":\"p1437\",\"attributes\":{\"location\":[0,0],\"ticker\":{\"type\":\"object\",\"name\":\"BasicTicker\",\"id\":\"p1436\",\"attributes\":{\"mantissas\":[1,2,5]}},\"major_label_policy\":{\"type\":\"object\",\"name\":\"NoOverlap\",\"id\":\"p1438\"},\"label_standoff\":8,\"major_tick_line_color\":\"black\",\"bar_line_color\":\"black\",\"color_mapper\":{\"id\":\"p1421\"}}}],\"below\":[{\"type\":\"object\",\"name\":\"LinearAxis\",\"id\":\"p1396\",\"attributes\":{\"ticker\":{\"type\":\"object\",\"name\":\"MercatorTicker\",\"id\":\"p1409\",\"attributes\":{\"mantissas\":[1,2,5],\"dimension\":\"lon\"}},\"formatter\":{\"type\":\"object\",\"name\":\"MercatorTickFormatter\",\"id\":\"p1410\",\"attributes\":{\"dimension\":\"lon\"}},\"axis_label\":\"Longitude\",\"major_label_policy\":{\"type\":\"object\",\"name\":\"AllLabels\",\"id\":\"p1399\"}}}],\"center\":[{\"type\":\"object\",\"name\":\"Grid\",\"id\":\"p1400\",\"attributes\":{\"axis\":{\"id\":\"p1396\"},\"grid_line_color\":null}},{\"type\":\"object\",\"name\":\"Grid\",\"id\":\"p1405\",\"attributes\":{\"dimension\":1,\"axis\":{\"id\":\"p1401\"},\"grid_line_color\":null}}],\"frame_width\":700,\"frame_height\":500,\"min_border_top\":10,\"min_border_bottom\":10,\"min_border_left\":10,\"min_border_right\":10,\"output_backend\":\"webgl\",\"match_aspect\":true}},{\"type\":\"object\",\"name\":\"Spacer\",\"id\":\"p1442\",\"attributes\":{\"name\":\"HSpacer02123\",\"stylesheets\":[\"\\n:host(.pn-loading):before, .pn-loading:before {\\n  background-color: #c3c3c3;\\n  mask-size: auto calc(min(50%, 400px));\\n  -webkit-mask-size: auto calc(min(50%, 400px));\\n}\",{\"id\":\"p1344\"},{\"id\":\"p1342\"},{\"id\":\"p1343\"}],\"margin\":0,\"sizing_mode\":\"stretch_width\",\"align\":\"start\"}}]}}],\"defs\":[{\"type\":\"model\",\"name\":\"ReactiveHTML1\"},{\"type\":\"model\",\"name\":\"FlexBox1\",\"properties\":[{\"name\":\"align_content\",\"kind\":\"Any\",\"default\":\"flex-start\"},{\"name\":\"align_items\",\"kind\":\"Any\",\"default\":\"flex-start\"},{\"name\":\"flex_direction\",\"kind\":\"Any\",\"default\":\"row\"},{\"name\":\"flex_wrap\",\"kind\":\"Any\",\"default\":\"wrap\"},{\"name\":\"gap\",\"kind\":\"Any\",\"default\":\"\"},{\"name\":\"justify_content\",\"kind\":\"Any\",\"default\":\"flex-start\"}]},{\"type\":\"model\",\"name\":\"FloatPanel1\",\"properties\":[{\"name\":\"config\",\"kind\":\"Any\",\"default\":{\"type\":\"map\"}},{\"name\":\"contained\",\"kind\":\"Any\",\"default\":true},{\"name\":\"position\",\"kind\":\"Any\",\"default\":\"right-top\"},{\"name\":\"offsetx\",\"kind\":\"Any\",\"default\":null},{\"name\":\"offsety\",\"kind\":\"Any\",\"default\":null},{\"name\":\"theme\",\"kind\":\"Any\",\"default\":\"primary\"},{\"name\":\"status\",\"kind\":\"Any\",\"default\":\"normalized\"}]},{\"type\":\"model\",\"name\":\"GridStack1\",\"properties\":[{\"name\":\"mode\",\"kind\":\"Any\",\"default\":\"warn\"},{\"name\":\"ncols\",\"kind\":\"Any\",\"default\":null},{\"name\":\"nrows\",\"kind\":\"Any\",\"default\":null},{\"name\":\"allow_resize\",\"kind\":\"Any\",\"default\":true},{\"name\":\"allow_drag\",\"kind\":\"Any\",\"default\":true},{\"name\":\"state\",\"kind\":\"Any\",\"default\":[]}]},{\"type\":\"model\",\"name\":\"drag1\",\"properties\":[{\"name\":\"slider_width\",\"kind\":\"Any\",\"default\":5},{\"name\":\"slider_color\",\"kind\":\"Any\",\"default\":\"black\"},{\"name\":\"value\",\"kind\":\"Any\",\"default\":50}]},{\"type\":\"model\",\"name\":\"click1\",\"properties\":[{\"name\":\"terminal_output\",\"kind\":\"Any\",\"default\":\"\"},{\"name\":\"debug_name\",\"kind\":\"Any\",\"default\":\"\"},{\"name\":\"clears\",\"kind\":\"Any\",\"default\":0}]},{\"type\":\"model\",\"name\":\"FastWrapper1\",\"properties\":[{\"name\":\"object\",\"kind\":\"Any\",\"default\":null},{\"name\":\"style\",\"kind\":\"Any\",\"default\":null}]},{\"type\":\"model\",\"name\":\"NotificationAreaBase1\",\"properties\":[{\"name\":\"js_events\",\"kind\":\"Any\",\"default\":{\"type\":\"map\"}},{\"name\":\"position\",\"kind\":\"Any\",\"default\":\"bottom-right\"},{\"name\":\"_clear\",\"kind\":\"Any\",\"default\":0}]},{\"type\":\"model\",\"name\":\"NotificationArea1\",\"properties\":[{\"name\":\"js_events\",\"kind\":\"Any\",\"default\":{\"type\":\"map\"}},{\"name\":\"notifications\",\"kind\":\"Any\",\"default\":[]},{\"name\":\"position\",\"kind\":\"Any\",\"default\":\"bottom-right\"},{\"name\":\"_clear\",\"kind\":\"Any\",\"default\":0},{\"name\":\"types\",\"kind\":\"Any\",\"default\":[{\"type\":\"map\",\"entries\":[[\"type\",\"warning\"],[\"background\",\"#ffc107\"],[\"icon\",{\"type\":\"map\",\"entries\":[[\"className\",\"fas fa-exclamation-triangle\"],[\"tagName\",\"i\"],[\"color\",\"white\"]]}]]},{\"type\":\"map\",\"entries\":[[\"type\",\"info\"],[\"background\",\"#007bff\"],[\"icon\",{\"type\":\"map\",\"entries\":[[\"className\",\"fas fa-info-circle\"],[\"tagName\",\"i\"],[\"color\",\"white\"]]}]]}]}]},{\"type\":\"model\",\"name\":\"Notification\",\"properties\":[{\"name\":\"background\",\"kind\":\"Any\",\"default\":null},{\"name\":\"duration\",\"kind\":\"Any\",\"default\":3000},{\"name\":\"icon\",\"kind\":\"Any\",\"default\":null},{\"name\":\"message\",\"kind\":\"Any\",\"default\":\"\"},{\"name\":\"notification_type\",\"kind\":\"Any\",\"default\":null},{\"name\":\"_destroyed\",\"kind\":\"Any\",\"default\":false}]},{\"type\":\"model\",\"name\":\"TemplateActions1\",\"properties\":[{\"name\":\"open_modal\",\"kind\":\"Any\",\"default\":0},{\"name\":\"close_modal\",\"kind\":\"Any\",\"default\":0}]},{\"type\":\"model\",\"name\":\"BootstrapTemplateActions1\",\"properties\":[{\"name\":\"open_modal\",\"kind\":\"Any\",\"default\":0},{\"name\":\"close_modal\",\"kind\":\"Any\",\"default\":0}]},{\"type\":\"model\",\"name\":\"TemplateEditor1\",\"properties\":[{\"name\":\"layout\",\"kind\":\"Any\",\"default\":[]}]},{\"type\":\"model\",\"name\":\"MaterialTemplateActions1\",\"properties\":[{\"name\":\"open_modal\",\"kind\":\"Any\",\"default\":0},{\"name\":\"close_modal\",\"kind\":\"Any\",\"default\":0}]},{\"type\":\"model\",\"name\":\"copy_to_clipboard1\",\"properties\":[{\"name\":\"fill\",\"kind\":\"Any\",\"default\":\"none\"},{\"name\":\"value\",\"kind\":\"Any\",\"default\":null}]}]}};\n",
       "  var render_items = [{\"docid\":\"d9d0fe29-3e4b-42e2-a3c9-d33b1f0dd721\",\"roots\":{\"p1341\":\"efb0df17-8c97-4a9a-9f9e-f3393807e6eb\"},\"root_ids\":[\"p1341\"]}];\n",
       "  var docs = Object.values(docs_json)\n",
       "  if (!docs) {\n",
       "    return\n",
       "  }\n",
       "  const py_version = docs[0].version.replace('rc', '-rc.').replace('.dev', '-dev.')\n",
       "  async function embed_document(root) {\n",
       "    var Bokeh = get_bokeh(root)\n",
       "    await Bokeh.embed.embed_items_notebook(docs_json, render_items);\n",
       "    for (const render_item of render_items) {\n",
       "      for (const root_id of render_item.root_ids) {\n",
       "\tconst id_el = document.getElementById(root_id)\n",
       "\tif (id_el.children.length && id_el.children[0].hasAttribute('data-root-id')) {\n",
       "\t  const root_el = id_el.children[0]\n",
       "\t  root_el.id = root_el.id + '-rendered'\n",
       "\t  for (const child of root_el.children) {\n",
       "            // Ensure JupyterLab does not capture keyboard shortcuts\n",
       "            // see: https://jupyterlab.readthedocs.io/en/4.1.x/extension/notebook.html#keyboard-interaction-model\n",
       "\t    child.setAttribute('data-lm-suppress-shortcuts', 'true')\n",
       "\t  }\n",
       "\t}\n",
       "      }\n",
       "    }\n",
       "  }\n",
       "  function get_bokeh(root) {\n",
       "    if (root.Bokeh === undefined) {\n",
       "      return null\n",
       "    } else if (root.Bokeh.version !== py_version) {\n",
       "      if (root.Bokeh.versions === undefined || !root.Bokeh.versions.has(py_version)) {\n",
       "\treturn null\n",
       "      }\n",
       "      return root.Bokeh.versions.get(py_version);\n",
       "    } else if (root.Bokeh.version === py_version) {\n",
       "      return root.Bokeh\n",
       "    }\n",
       "    return null\n",
       "  }\n",
       "  function is_loaded(root) {\n",
       "    var Bokeh = get_bokeh(root)\n",
       "    return (Bokeh != null && Bokeh.Panel !== undefined)\n",
       "  }\n",
       "  if (is_loaded(root)) {\n",
       "    embed_document(root);\n",
       "  } else {\n",
       "    var attempts = 0;\n",
       "    var timer = setInterval(function(root) {\n",
       "      if (is_loaded(root)) {\n",
       "        clearInterval(timer);\n",
       "        embed_document(root);\n",
       "      } else if (document.readyState == \"complete\") {\n",
       "        attempts++;\n",
       "        if (attempts > 200) {\n",
       "          clearInterval(timer);\n",
       "\t  var Bokeh = get_bokeh(root)\n",
       "\t  if (Bokeh == null || Bokeh.Panel == null) {\n",
       "            console.warn(\"Panel: ERROR: Unable to run Panel code because Bokeh or Panel library is missing\");\n",
       "\t  } else {\n",
       "\t    console.warn(\"Panel: WARNING: Attempting to render but not all required libraries could be resolved.\")\n",
       "\t    embed_document(root)\n",
       "\t  }\n",
       "        }\n",
       "      }\n",
       "    }, 25, root)\n",
       "  }\n",
       "})(window);</script>"
      ],
      "text/plain": [
       ":Overlay\n",
       "   .WMTS.I   :WMTS   [Longitude,Latitude]\n",
       "   .Points.I :Points   [Lng,Lat]   (Humidity)"
      ]
     },
     "execution_count": 23,
     "metadata": {
      "application/vnd.holoviews_exec.v0+json": {
       "id": "p1341"
      }
     },
     "output_type": "execute_result"
    }
   ],
   "source": [
    "%%capture --no-display\n",
    "\n",
    "# Configure the map plot\n",
    "map_plot = city_data_df.hvplot.points(\n",
    "    \"Lng\",\n",
    "    \"Lat\",\n",
    "    geo=True,\n",
    "    size=\"Humidity\",\n",
    "    color=\"Humidity\",\n",
    "    tiles=\"OSM\",\n",
    "    frame_width=700,\n",
    "    frame_height=500,\n",
    "    title=\"City Humidity Map\"\n",
    ")\n",
    "\n",
    "# Display the map\n",
    "map_plot\n"
   ]
  },
  {
   "cell_type": "markdown",
   "metadata": {},
   "source": [
    "### Step 2: Narrow down the `city_data_df` DataFrame to find your ideal weather condition"
   ]
  },
  {
   "cell_type": "code",
   "execution_count": 24,
   "metadata": {},
   "outputs": [
    {
     "data": {
      "text/html": [
       "<div>\n",
       "<style scoped>\n",
       "    .dataframe tbody tr th:only-of-type {\n",
       "        vertical-align: middle;\n",
       "    }\n",
       "\n",
       "    .dataframe tbody tr th {\n",
       "        vertical-align: top;\n",
       "    }\n",
       "\n",
       "    .dataframe thead th {\n",
       "        text-align: right;\n",
       "    }\n",
       "</style>\n",
       "<table border=\"1\" class=\"dataframe\">\n",
       "  <thead>\n",
       "    <tr style=\"text-align: right;\">\n",
       "      <th></th>\n",
       "      <th>City_ID</th>\n",
       "      <th>City</th>\n",
       "      <th>Lat</th>\n",
       "      <th>Lng</th>\n",
       "      <th>Max Temp</th>\n",
       "      <th>Humidity</th>\n",
       "      <th>Cloudiness</th>\n",
       "      <th>Wind Speed</th>\n",
       "      <th>Country</th>\n",
       "      <th>Date</th>\n",
       "    </tr>\n",
       "  </thead>\n",
       "  <tbody>\n",
       "  </tbody>\n",
       "</table>\n",
       "</div>"
      ],
      "text/plain": [
       "Empty DataFrame\n",
       "Columns: [City_ID, City, Lat, Lng, Max Temp, Humidity, Cloudiness, Wind Speed, Country, Date]\n",
       "Index: []"
      ]
     },
     "execution_count": 24,
     "metadata": {},
     "output_type": "execute_result"
    }
   ],
   "source": [
    "# Narrow down cities that fit criteria and drop any results with null values\n",
    "ideal_cities = city_data_df.loc[\n",
    "    (city_data_df[\"Max Temp\"] >= 20) & \n",
    "    (city_data_df[\"Max Temp\"] <= 27) &\n",
    "    (city_data_df[\"Cloudiness\"] == 0) &\n",
    "    (city_data_df[\"Wind Speed\"] <= 10)\n",
    "]\n",
    "\n",
    "# Drop any rows with null values\n",
    "ideal_cities = ideal_cities.dropna()\n",
    "\n",
    "# Display sample data\n",
    "ideal_cities.head()\n"
   ]
  },
  {
   "cell_type": "markdown",
   "metadata": {},
   "source": [
    "### Step 3: Create a new DataFrame called `hotel_df`."
   ]
  },
  {
   "cell_type": "code",
   "execution_count": 25,
   "metadata": {},
   "outputs": [
    {
     "data": {
      "text/html": [
       "<div>\n",
       "<style scoped>\n",
       "    .dataframe tbody tr th:only-of-type {\n",
       "        vertical-align: middle;\n",
       "    }\n",
       "\n",
       "    .dataframe tbody tr th {\n",
       "        vertical-align: top;\n",
       "    }\n",
       "\n",
       "    .dataframe thead th {\n",
       "        text-align: right;\n",
       "    }\n",
       "</style>\n",
       "<table border=\"1\" class=\"dataframe\">\n",
       "  <thead>\n",
       "    <tr style=\"text-align: right;\">\n",
       "      <th></th>\n",
       "      <th>City</th>\n",
       "      <th>Country</th>\n",
       "      <th>Lat</th>\n",
       "      <th>Lng</th>\n",
       "      <th>Humidity</th>\n",
       "      <th>Hotel Name</th>\n",
       "    </tr>\n",
       "  </thead>\n",
       "  <tbody>\n",
       "  </tbody>\n",
       "</table>\n",
       "</div>"
      ],
      "text/plain": [
       "Empty DataFrame\n",
       "Columns: [City, Country, Lat, Lng, Humidity, Hotel Name]\n",
       "Index: []"
      ]
     },
     "execution_count": 25,
     "metadata": {},
     "output_type": "execute_result"
    }
   ],
   "source": [
    "# Use the Pandas copy function to create a DataFrame called hotel_df\n",
    "hotel_df = ideal_cities[[\"City\", \"Country\", \"Lat\", \"Lng\", \"Humidity\"]].copy()\n",
    "\n",
    "# Add an empty column, \"Hotel Name,\" to the DataFrame\n",
    "hotel_df[\"Hotel Name\"] = \"\"\n",
    "\n",
    "# Display sample data\n",
    "hotel_df.head()\n"
   ]
  },
  {
   "cell_type": "markdown",
   "metadata": {},
   "source": [
    "### Step 4: For each city, use the Geoapify API to find the first hotel located within 10,000 metres of your coordinates."
   ]
  },
  {
   "cell_type": "code",
   "execution_count": null,
   "metadata": {},
   "outputs": [
    {
     "name": "stdout",
     "output_type": "stream",
     "text": [
      "Starting hotel search\n"
     ]
    },
    {
     "data": {
      "text/html": [
       "<div>\n",
       "<style scoped>\n",
       "    .dataframe tbody tr th:only-of-type {\n",
       "        vertical-align: middle;\n",
       "    }\n",
       "\n",
       "    .dataframe tbody tr th {\n",
       "        vertical-align: top;\n",
       "    }\n",
       "\n",
       "    .dataframe thead th {\n",
       "        text-align: right;\n",
       "    }\n",
       "</style>\n",
       "<table border=\"1\" class=\"dataframe\">\n",
       "  <thead>\n",
       "    <tr style=\"text-align: right;\">\n",
       "      <th></th>\n",
       "      <th>City</th>\n",
       "      <th>Country</th>\n",
       "      <th>Lat</th>\n",
       "      <th>Lng</th>\n",
       "      <th>Humidity</th>\n",
       "      <th>Hotel Name</th>\n",
       "    </tr>\n",
       "  </thead>\n",
       "  <tbody>\n",
       "  </tbody>\n",
       "</table>\n",
       "</div>"
      ],
      "text/plain": [
       "Empty DataFrame\n",
       "Columns: [City, Country, Lat, Lng, Humidity, Hotel Name]\n",
       "Index: []"
      ]
     },
     "execution_count": 29,
     "metadata": {},
     "output_type": "execute_result"
    }
   ],
   "source": [
    "# Set parameters to search for a hotel\n",
    "radius = 10000\n",
    "params = {\n",
    "    \"categories\": \"accommodation.hotel\",\n",
    "    \"limit\": 1,\n",
    "    \"apiKey\": geoapify_key\n",
    "}\n",
    "\n",
    "# Print a message to follow up the hotel search\n",
    "print(\"Starting hotel search\")\n",
    "\n",
    "# Iterate through the hotel_df DataFrame\n",
    "for index, row in hotel_df.iterrows():\n",
    "    # Get latitude, longitude from the DataFrame\n",
    "    lat = row[\"Lat\"]\n",
    "    lng = row[\"Lng\"]\n",
    "\n",
    "    # Add the current city's latitude and longitude to the params dictionary\n",
    "    params[\"filter\"] = f\"circle:{lng},{lat},{radius}\"\n",
    "    params[\"bias\"] = f\"proximity:{lng},{lat}\"\n",
    "\n",
    "    # Set base URL\n",
    "  url = \"https://api.geoapify.com/v2/places?categories=restaurant&limit=10&apiKey=8dc7f0152a0647c3a356f738e631e6eb\"\n",
    "\n",
    "    # Make an API request using the params dictionary\n",
    "    response = requests.get(base_url, params=params)\n",
    "\n",
    "    # Convert the API response to JSON format\n",
    "    name_address = response.json()\n",
    "\n",
    "    # Grab the first hotel from the results and store the name in the hotel_df DataFrame\n",
    "    try:\n",
    "        hotel_df.loc[index, \"Hotel Name\"] = name_address[\"features\"][0][\"properties\"][\"name\"]\n",
    "    except (KeyError, IndexError):\n",
    "        # If no hotel is found, set the hotel name as \"No hotel found\".\n",
    "        hotel_df.loc[index, \"Hotel Name\"] = \"No hotel found\"\n",
    "\n",
    "    # Log the search results\n",
    "    print(f\"{hotel_df.loc[index, 'City']} - nearest hotel: {hotel_df.loc[index, 'Hotel Name']}\")\n",
    "\n",
    "# Display sample data\n",
    "hotel_df.head()\n"
   ]
  },
  {
   "cell_type": "markdown",
   "metadata": {},
   "source": [
    "### Step 5: Add the hotel name and the country as additional information in the hover message for each city in the map."
   ]
  },
  {
   "cell_type": "code",
   "execution_count": 27,
   "metadata": {},
   "outputs": [
    {
     "data": {},
     "metadata": {},
     "output_type": "display_data"
    },
    {
     "data": {
      "application/vnd.holoviews_exec.v0+json": "",
      "text/html": [
       "<div id='p1451'>\n",
       "  <div id=\"e7c609c6-3f5f-409a-9f2f-dcc6e96d36f2\" data-root-id=\"p1451\" style=\"display: contents;\"></div>\n",
       "</div>\n",
       "<script type=\"application/javascript\">(function(root) {\n",
       "  var docs_json = {\"dadb4ff1-f269-4b6a-b551-f259e48c2cd7\":{\"version\":\"3.4.1\",\"title\":\"Bokeh Application\",\"roots\":[{\"type\":\"object\",\"name\":\"Row\",\"id\":\"p1451\",\"attributes\":{\"name\":\"Row02247\",\"tags\":[\"embedded\"],\"stylesheets\":[\"\\n:host(.pn-loading):before, .pn-loading:before {\\n  background-color: #c3c3c3;\\n  mask-size: auto calc(min(50%, 400px));\\n  -webkit-mask-size: auto calc(min(50%, 400px));\\n}\",{\"type\":\"object\",\"name\":\"ImportedStyleSheet\",\"id\":\"p1454\",\"attributes\":{\"url\":\"https://cdn.holoviz.org/panel/1.4.4/dist/css/loading.css\"}},{\"type\":\"object\",\"name\":\"ImportedStyleSheet\",\"id\":\"p1554\",\"attributes\":{\"url\":\"https://cdn.holoviz.org/panel/1.4.4/dist/css/listpanel.css\"}},{\"type\":\"object\",\"name\":\"ImportedStyleSheet\",\"id\":\"p1452\",\"attributes\":{\"url\":\"https://cdn.holoviz.org/panel/1.4.4/dist/bundled/theme/default.css\"}},{\"type\":\"object\",\"name\":\"ImportedStyleSheet\",\"id\":\"p1453\",\"attributes\":{\"url\":\"https://cdn.holoviz.org/panel/1.4.4/dist/bundled/theme/native.css\"}}],\"margin\":0,\"sizing_mode\":\"stretch_width\",\"align\":\"start\",\"children\":[{\"type\":\"object\",\"name\":\"Spacer\",\"id\":\"p1455\",\"attributes\":{\"name\":\"HSpacer02253\",\"stylesheets\":[\"\\n:host(.pn-loading):before, .pn-loading:before {\\n  background-color: #c3c3c3;\\n  mask-size: auto calc(min(50%, 400px));\\n  -webkit-mask-size: auto calc(min(50%, 400px));\\n}\",{\"id\":\"p1454\"},{\"id\":\"p1452\"},{\"id\":\"p1453\"}],\"margin\":0,\"sizing_mode\":\"stretch_width\",\"align\":\"start\"}},{\"type\":\"object\",\"name\":\"Figure\",\"id\":\"p1494\",\"attributes\":{\"width\":null,\"height\":null,\"margin\":[5,10],\"sizing_mode\":\"fixed\",\"align\":\"start\",\"x_range\":{\"type\":\"object\",\"name\":\"Range1d\",\"id\":\"p1465\",\"attributes\":{\"tags\":[[[\"Longitude\",null]],[]],\"start\":-2.0,\"end\":3.0,\"min_interval\":5}},\"y_range\":{\"type\":\"object\",\"name\":\"Range1d\",\"id\":\"p1466\",\"attributes\":{\"tags\":[[[\"Latitude\",null]],{\"type\":\"map\",\"entries\":[[\"invert_yaxis\",false],[\"autorange\",false]]}],\"start\":-2.0,\"end\":3.0,\"min_interval\":5}},\"x_scale\":{\"type\":\"object\",\"name\":\"LinearScale\",\"id\":\"p1504\"},\"y_scale\":{\"type\":\"object\",\"name\":\"LinearScale\",\"id\":\"p1505\"},\"title\":{\"type\":\"object\",\"name\":\"Title\",\"id\":\"p1497\",\"attributes\":{\"text\":\"Hotel Finder Map\",\"text_color\":\"black\",\"text_font_size\":\"12pt\"}},\"renderers\":[{\"type\":\"object\",\"name\":\"TileRenderer\",\"id\":\"p1527\",\"attributes\":{\"level\":\"underlay\",\"tile_source\":{\"type\":\"object\",\"name\":\"WMTSTileSource\",\"id\":\"p1523\",\"attributes\":{\"url\":\"https://c.tile.openstreetmap.org/{Z}/{X}/{Y}.png\",\"attribution\":\"&copy; <a href=\\\"https://www.openstreetmap.org/copyright\\\">OpenStreetMap</a> contributors\"}}}},{\"type\":\"object\",\"name\":\"GlyphRenderer\",\"id\":\"p1543\",\"attributes\":{\"data_source\":{\"type\":\"object\",\"name\":\"ColumnDataSource\",\"id\":\"p1532\",\"attributes\":{\"selected\":{\"type\":\"object\",\"name\":\"Selection\",\"id\":\"p1533\",\"attributes\":{\"indices\":[],\"line_indices\":[]}},\"selection_policy\":{\"type\":\"object\",\"name\":\"UnionRenderers\",\"id\":\"p1534\"},\"data\":{\"type\":\"map\",\"entries\":[[\"Lng\",{\"type\":\"ndarray\",\"array\":{\"type\":\"bytes\",\"data\":\"\"},\"shape\":[0],\"dtype\":\"float64\",\"order\":\"little\"}],[\"Lat\",{\"type\":\"ndarray\",\"array\":{\"type\":\"bytes\",\"data\":\"\"},\"shape\":[0],\"dtype\":\"float64\",\"order\":\"little\"}],[\"Humidity\",{\"type\":\"ndarray\",\"array\":{\"type\":\"bytes\",\"data\":\"\"},\"shape\":[0],\"dtype\":\"int32\",\"order\":\"little\"}],[\"City\",{\"type\":\"ndarray\",\"array\":[],\"shape\":[0],\"dtype\":\"object\",\"order\":\"little\"}],[\"Country\",{\"type\":\"ndarray\",\"array\":[],\"shape\":[0],\"dtype\":\"object\",\"order\":\"little\"}],[\"Hotel_Name\",{\"type\":\"ndarray\",\"array\":[],\"shape\":[0],\"dtype\":\"object\",\"order\":\"little\"}],[\"color\",{\"type\":\"ndarray\",\"array\":{\"type\":\"bytes\",\"data\":\"\"},\"shape\":[0],\"dtype\":\"int32\",\"order\":\"little\"}],[\"size\",{\"type\":\"ndarray\",\"array\":{\"type\":\"bytes\",\"data\":\"\"},\"shape\":[0],\"dtype\":\"float64\",\"order\":\"little\"}]]}}},\"view\":{\"type\":\"object\",\"name\":\"CDSView\",\"id\":\"p1544\",\"attributes\":{\"filter\":{\"type\":\"object\",\"name\":\"AllIndices\",\"id\":\"p1545\"}}},\"glyph\":{\"type\":\"object\",\"name\":\"Scatter\",\"id\":\"p1538\",\"attributes\":{\"tags\":[\"apply_ranges\"],\"x\":{\"type\":\"field\",\"field\":\"Lng\"},\"y\":{\"type\":\"field\",\"field\":\"Lat\"},\"size\":{\"type\":\"field\",\"field\":\"size\"},\"line_color\":{\"type\":\"field\",\"field\":\"color\",\"transform\":{\"type\":\"object\",\"name\":\"LinearColorMapper\",\"id\":\"p1531\",\"attributes\":{\"palette\":[\"#b3fef5\",\"#b0fef5\",\"#adfdf5\",\"#a9fcf5\",\"#a6fbf6\",\"#a3faf6\",\"#a0faf6\",\"#9df9f6\",\"#9af8f6\",\"#97f7f6\",\"#93f7f6\",\"#90f6f6\",\"#8df5f6\",\"#8af4f7\",\"#87f3f7\",\"#83f2f7\",\"#80f2f7\",\"#7df1f7\",\"#79f0f7\",\"#76eff7\",\"#73eef7\",\"#6fedf8\",\"#6cecf8\",\"#68ecf8\",\"#65ebf8\",\"#61eaf8\",\"#5ee9f8\",\"#5ae8f8\",\"#57e7f8\",\"#53e6f8\",\"#50e5f9\",\"#4ce4f9\",\"#49e3f9\",\"#45e2f9\",\"#42e1f9\",\"#3ee0f9\",\"#3bdff9\",\"#38def9\",\"#35ddf9\",\"#32dcf9\",\"#30dbfa\",\"#2ed9fa\",\"#2dd8fa\",\"#2cd7fa\",\"#2bd6fa\",\"#2bd5fa\",\"#2ad3fa\",\"#2ad2fa\",\"#29d1fa\",\"#29d0fb\",\"#29cffb\",\"#28cdfb\",\"#28ccfb\",\"#28cbfb\",\"#28cafb\",\"#28c8fb\",\"#28c7fb\",\"#29c6fb\",\"#29c5fb\",\"#29c4fb\",\"#29c2fb\",\"#2ac1fb\",\"#2ac0fb\",\"#2bbffb\",\"#2bbdfc\",\"#2cbcfc\",\"#2dbbfc\",\"#2db9fc\",\"#2eb8fc\",\"#2fb7fc\",\"#2fb6fc\",\"#30b4fc\",\"#31b3fc\",\"#32b2fc\",\"#32b0fc\",\"#33affc\",\"#33aefc\",\"#34adfc\",\"#34abfc\",\"#34aafc\",\"#35a9fc\",\"#35a8fc\",\"#35a6fc\",\"#35a5fc\",\"#35a4fc\",\"#35a3fc\",\"#35a1fc\",\"#35a0fc\",\"#359ffc\",\"#359dfc\",\"#359cfc\",\"#359bfc\",\"#349afd\",\"#3498fd\",\"#3497fd\",\"#3396fd\",\"#3395fd\",\"#3293fd\",\"#3292fd\",\"#3191fd\",\"#3090fd\",\"#308ffd\",\"#2f8dfd\",\"#2f8cfd\",\"#2e8bfd\",\"#2e8afd\",\"#2d88fd\",\"#2d87fd\",\"#2c86fd\",\"#2c84fd\",\"#2c83fd\",\"#2c82fd\",\"#2b81fd\",\"#2b7ffd\",\"#2b7efd\",\"#2b7dfd\",\"#2b7bfd\",\"#2b7afd\",\"#2b79fd\",\"#2b77fd\",\"#2b76fd\",\"#2b75fd\",\"#2b73fd\",\"#2c72fd\",\"#2c71fd\",\"#2c6ffd\",\"#2c6efd\",\"#2d6cfd\",\"#2d6bfd\",\"#2d6afc\",\"#2e68fc\",\"#2e67fc\",\"#2e65fc\",\"#2e64fc\",\"#2f62fc\",\"#2f61fc\",\"#2f5ffc\",\"#2f5efc\",\"#2f5dfc\",\"#2f5bfc\",\"#2f5afc\",\"#2f58fb\",\"#2f57fb\",\"#2f55fb\",\"#2f53fb\",\"#2f52fb\",\"#2f50fb\",\"#2f4ffb\",\"#2f4dfb\",\"#2e4cfb\",\"#2e4afb\",\"#2e48fb\",\"#2e47fa\",\"#2d45fa\",\"#2d43fa\",\"#2d42fa\",\"#2d40fa\",\"#2c3efa\",\"#2c3dfa\",\"#2b3bf9\",\"#2b39f9\",\"#2a37f9\",\"#2a36f8\",\"#2934f8\",\"#2832f7\",\"#2831f7\",\"#272ff6\",\"#262ef5\",\"#252cf5\",\"#252af4\",\"#2429f3\",\"#2327f2\",\"#2226f1\",\"#2124f0\",\"#2023ef\",\"#1f22ee\",\"#1e20ed\",\"#1d1feb\",\"#1c1eea\",\"#1b1ce9\",\"#1a1be7\",\"#181ae6\",\"#1719e5\",\"#1618e3\",\"#1417e1\",\"#1316e0\",\"#1215de\",\"#1014dc\",\"#0f13db\",\"#0e12d9\",\"#0d11d7\",\"#0c10d5\",\"#0b0fd3\",\"#0a0ed1\",\"#090dd0\",\"#080dce\",\"#080ccc\",\"#070bca\",\"#070ac8\",\"#0709c6\",\"#0708c4\",\"#0707c2\",\"#0707bf\",\"#0806bd\",\"#0806bb\",\"#0905b9\",\"#0904b7\",\"#0a04b5\",\"#0a04b2\",\"#0b03b0\",\"#0c03ae\",\"#0d02ab\",\"#0e02a9\",\"#0e02a7\",\"#0f02a4\",\"#0f01a2\",\"#1001a0\",\"#10019d\",\"#10019b\",\"#100199\",\"#100197\",\"#100194\",\"#0f0192\",\"#0f0190\",\"#0f018e\",\"#0e018b\",\"#0e0189\",\"#0d0187\",\"#0d0185\",\"#0c0183\",\"#0b0181\",\"#0b017e\",\"#0a017c\",\"#09017a\",\"#090178\",\"#080276\",\"#070274\",\"#060272\",\"#060270\",\"#05026e\",\"#04026c\",\"#030269\",\"#030267\",\"#020265\",\"#010263\",\"#010261\",\"#00025f\",\"#00025d\",\"#00025b\",\"#000259\",\"#000257\",\"#000255\",\"#000154\",\"#000152\",\"#000150\",\"#00004e\"]}}},\"fill_color\":{\"type\":\"field\",\"field\":\"color\",\"transform\":{\"id\":\"p1531\"}},\"hatch_color\":{\"type\":\"field\",\"field\":\"color\",\"transform\":{\"id\":\"p1531\"}}}},\"selection_glyph\":{\"type\":\"object\",\"name\":\"Scatter\",\"id\":\"p1540\",\"attributes\":{\"tags\":[\"apply_ranges\"],\"x\":{\"type\":\"field\",\"field\":\"Lng\"},\"y\":{\"type\":\"field\",\"field\":\"Lat\"},\"size\":{\"type\":\"field\",\"field\":\"size\"},\"line_color\":{\"type\":\"field\",\"field\":\"color\",\"transform\":{\"id\":\"p1531\"}},\"fill_color\":{\"type\":\"field\",\"field\":\"color\",\"transform\":{\"id\":\"p1531\"}},\"hatch_color\":{\"type\":\"field\",\"field\":\"color\",\"transform\":{\"id\":\"p1531\"}}}},\"nonselection_glyph\":{\"type\":\"object\",\"name\":\"Scatter\",\"id\":\"p1539\",\"attributes\":{\"tags\":[\"apply_ranges\"],\"x\":{\"type\":\"field\",\"field\":\"Lng\"},\"y\":{\"type\":\"field\",\"field\":\"Lat\"},\"size\":{\"type\":\"field\",\"field\":\"size\"},\"line_color\":{\"type\":\"field\",\"field\":\"color\",\"transform\":{\"id\":\"p1531\"}},\"line_alpha\":{\"type\":\"value\",\"value\":0.1},\"fill_color\":{\"type\":\"field\",\"field\":\"color\",\"transform\":{\"id\":\"p1531\"}},\"fill_alpha\":{\"type\":\"value\",\"value\":0.1},\"hatch_color\":{\"type\":\"field\",\"field\":\"color\",\"transform\":{\"id\":\"p1531\"}},\"hatch_alpha\":{\"type\":\"value\",\"value\":0.1}}},\"hover_glyph\":{\"type\":\"object\",\"name\":\"Scatter\",\"id\":\"p1541\",\"attributes\":{\"tags\":[\"apply_ranges\"],\"x\":{\"type\":\"field\",\"field\":\"Lng\"},\"y\":{\"type\":\"field\",\"field\":\"Lat\"},\"size\":{\"type\":\"field\",\"field\":\"size\"},\"line_color\":{\"type\":\"field\",\"field\":\"color\",\"transform\":{\"id\":\"p1531\"}},\"fill_color\":{\"type\":\"field\",\"field\":\"color\",\"transform\":{\"id\":\"p1531\"}},\"hatch_color\":{\"type\":\"field\",\"field\":\"color\",\"transform\":{\"id\":\"p1531\"}}}},\"muted_glyph\":{\"type\":\"object\",\"name\":\"Scatter\",\"id\":\"p1542\",\"attributes\":{\"tags\":[\"apply_ranges\"],\"x\":{\"type\":\"field\",\"field\":\"Lng\"},\"y\":{\"type\":\"field\",\"field\":\"Lat\"},\"size\":{\"type\":\"field\",\"field\":\"size\"},\"line_color\":{\"type\":\"field\",\"field\":\"color\",\"transform\":{\"id\":\"p1531\"}},\"line_alpha\":{\"type\":\"value\",\"value\":0.2},\"fill_color\":{\"type\":\"field\",\"field\":\"color\",\"transform\":{\"id\":\"p1531\"}},\"fill_alpha\":{\"type\":\"value\",\"value\":0.2},\"hatch_color\":{\"type\":\"field\",\"field\":\"color\",\"transform\":{\"id\":\"p1531\"}},\"hatch_alpha\":{\"type\":\"value\",\"value\":0.2}}}}}],\"toolbar\":{\"type\":\"object\",\"name\":\"Toolbar\",\"id\":\"p1503\",\"attributes\":{\"tools\":[{\"type\":\"object\",\"name\":\"WheelZoomTool\",\"id\":\"p1469\",\"attributes\":{\"renderers\":\"auto\",\"zoom_on_axis\":false}},{\"type\":\"object\",\"name\":\"BoxZoomTool\",\"id\":\"p1475\",\"attributes\":{\"overlay\":{\"type\":\"object\",\"name\":\"BoxAnnotation\",\"id\":\"p1470\",\"attributes\":{\"syncable\":false,\"level\":\"overlay\",\"visible\":false,\"left\":{\"type\":\"number\",\"value\":\"nan\"},\"right\":{\"type\":\"number\",\"value\":\"nan\"},\"top\":{\"type\":\"number\",\"value\":\"nan\"},\"bottom\":{\"type\":\"number\",\"value\":\"nan\"},\"left_units\":\"canvas\",\"right_units\":\"canvas\",\"top_units\":\"canvas\",\"bottom_units\":\"canvas\",\"line_color\":\"black\",\"line_alpha\":1.0,\"line_width\":2,\"line_dash\":[4,4],\"fill_color\":\"lightgrey\",\"fill_alpha\":0.5}},\"match_aspect\":true}},{\"type\":\"object\",\"name\":\"HoverTool\",\"id\":\"p1493\",\"attributes\":{\"tags\":[\"hv_created\"],\"renderers\":[{\"id\":\"p1543\"}],\"tooltips\":[[\"Lng\",\"$x{custom}\"],[\"Lat\",\"$y{custom}\"],[\"Humidity\",\"@{Humidity}\"],[\"City\",\"@{City}\"],[\"Country\",\"@{Country}\"],[\"Hotel Name\",\"@{Hotel_Name}\"]],\"formatters\":{\"type\":\"map\",\"entries\":[[\"$x\",{\"type\":\"object\",\"name\":\"CustomJSHover\",\"id\":\"p1549\",\"attributes\":{\"code\":\"\\n        const projections = Bokeh.require(\\\"core/util/projections\\\");\\n        const {snap_x, snap_y} = special_vars\\n        const coords = projections.wgs84_mercator.invert(snap_x, snap_y)\\n        return \\\"\\\" + (coords[0]).toFixed(4)\\n    \"}}],[\"$y\",{\"type\":\"object\",\"name\":\"CustomJSHover\",\"id\":\"p1550\",\"attributes\":{\"code\":\"\\n        const projections = Bokeh.require(\\\"core/util/projections\\\");\\n        const {snap_x, snap_y} = special_vars\\n        const coords = projections.wgs84_mercator.invert(snap_x, snap_y)\\n        return \\\"\\\" + (coords[1]).toFixed(4)\\n    \"}}]]}}},{\"type\":\"object\",\"name\":\"PanTool\",\"id\":\"p1517\"},{\"type\":\"object\",\"name\":\"ResetTool\",\"id\":\"p1518\"}],\"active_drag\":{\"id\":\"p1517\"}}},\"left\":[{\"type\":\"object\",\"name\":\"LinearAxis\",\"id\":\"p1511\",\"attributes\":{\"ticker\":{\"type\":\"object\",\"name\":\"MercatorTicker\",\"id\":\"p1521\",\"attributes\":{\"mantissas\":[1,2,5],\"dimension\":\"lat\"}},\"formatter\":{\"type\":\"object\",\"name\":\"MercatorTickFormatter\",\"id\":\"p1522\",\"attributes\":{\"dimension\":\"lat\"}},\"axis_label\":\"Latitude\",\"major_label_policy\":{\"type\":\"object\",\"name\":\"AllLabels\",\"id\":\"p1514\"}}}],\"right\":[{\"type\":\"object\",\"name\":\"ColorBar\",\"id\":\"p1547\",\"attributes\":{\"location\":[0,0],\"ticker\":{\"type\":\"object\",\"name\":\"BasicTicker\",\"id\":\"p1546\",\"attributes\":{\"mantissas\":[1,2,5]}},\"major_label_policy\":{\"type\":\"object\",\"name\":\"NoOverlap\",\"id\":\"p1548\"},\"label_standoff\":8,\"major_tick_line_color\":\"black\",\"bar_line_color\":\"black\",\"color_mapper\":{\"id\":\"p1531\"}}}],\"below\":[{\"type\":\"object\",\"name\":\"LinearAxis\",\"id\":\"p1506\",\"attributes\":{\"ticker\":{\"type\":\"object\",\"name\":\"MercatorTicker\",\"id\":\"p1519\",\"attributes\":{\"mantissas\":[1,2,5],\"dimension\":\"lon\"}},\"formatter\":{\"type\":\"object\",\"name\":\"MercatorTickFormatter\",\"id\":\"p1520\",\"attributes\":{\"dimension\":\"lon\"}},\"axis_label\":\"Longitude\",\"major_label_policy\":{\"type\":\"object\",\"name\":\"AllLabels\",\"id\":\"p1509\"}}}],\"center\":[{\"type\":\"object\",\"name\":\"Grid\",\"id\":\"p1510\",\"attributes\":{\"axis\":{\"id\":\"p1506\"},\"grid_line_color\":null}},{\"type\":\"object\",\"name\":\"Grid\",\"id\":\"p1515\",\"attributes\":{\"dimension\":1,\"axis\":{\"id\":\"p1511\"},\"grid_line_color\":null}}],\"frame_width\":700,\"frame_height\":500,\"min_border_top\":10,\"min_border_bottom\":10,\"min_border_left\":10,\"min_border_right\":10,\"output_backend\":\"webgl\",\"match_aspect\":true}},{\"type\":\"object\",\"name\":\"Spacer\",\"id\":\"p1552\",\"attributes\":{\"name\":\"HSpacer02254\",\"stylesheets\":[\"\\n:host(.pn-loading):before, .pn-loading:before {\\n  background-color: #c3c3c3;\\n  mask-size: auto calc(min(50%, 400px));\\n  -webkit-mask-size: auto calc(min(50%, 400px));\\n}\",{\"id\":\"p1454\"},{\"id\":\"p1452\"},{\"id\":\"p1453\"}],\"margin\":0,\"sizing_mode\":\"stretch_width\",\"align\":\"start\"}}]}}],\"defs\":[{\"type\":\"model\",\"name\":\"ReactiveHTML1\"},{\"type\":\"model\",\"name\":\"FlexBox1\",\"properties\":[{\"name\":\"align_content\",\"kind\":\"Any\",\"default\":\"flex-start\"},{\"name\":\"align_items\",\"kind\":\"Any\",\"default\":\"flex-start\"},{\"name\":\"flex_direction\",\"kind\":\"Any\",\"default\":\"row\"},{\"name\":\"flex_wrap\",\"kind\":\"Any\",\"default\":\"wrap\"},{\"name\":\"gap\",\"kind\":\"Any\",\"default\":\"\"},{\"name\":\"justify_content\",\"kind\":\"Any\",\"default\":\"flex-start\"}]},{\"type\":\"model\",\"name\":\"FloatPanel1\",\"properties\":[{\"name\":\"config\",\"kind\":\"Any\",\"default\":{\"type\":\"map\"}},{\"name\":\"contained\",\"kind\":\"Any\",\"default\":true},{\"name\":\"position\",\"kind\":\"Any\",\"default\":\"right-top\"},{\"name\":\"offsetx\",\"kind\":\"Any\",\"default\":null},{\"name\":\"offsety\",\"kind\":\"Any\",\"default\":null},{\"name\":\"theme\",\"kind\":\"Any\",\"default\":\"primary\"},{\"name\":\"status\",\"kind\":\"Any\",\"default\":\"normalized\"}]},{\"type\":\"model\",\"name\":\"GridStack1\",\"properties\":[{\"name\":\"mode\",\"kind\":\"Any\",\"default\":\"warn\"},{\"name\":\"ncols\",\"kind\":\"Any\",\"default\":null},{\"name\":\"nrows\",\"kind\":\"Any\",\"default\":null},{\"name\":\"allow_resize\",\"kind\":\"Any\",\"default\":true},{\"name\":\"allow_drag\",\"kind\":\"Any\",\"default\":true},{\"name\":\"state\",\"kind\":\"Any\",\"default\":[]}]},{\"type\":\"model\",\"name\":\"drag1\",\"properties\":[{\"name\":\"slider_width\",\"kind\":\"Any\",\"default\":5},{\"name\":\"slider_color\",\"kind\":\"Any\",\"default\":\"black\"},{\"name\":\"value\",\"kind\":\"Any\",\"default\":50}]},{\"type\":\"model\",\"name\":\"click1\",\"properties\":[{\"name\":\"terminal_output\",\"kind\":\"Any\",\"default\":\"\"},{\"name\":\"debug_name\",\"kind\":\"Any\",\"default\":\"\"},{\"name\":\"clears\",\"kind\":\"Any\",\"default\":0}]},{\"type\":\"model\",\"name\":\"FastWrapper1\",\"properties\":[{\"name\":\"object\",\"kind\":\"Any\",\"default\":null},{\"name\":\"style\",\"kind\":\"Any\",\"default\":null}]},{\"type\":\"model\",\"name\":\"NotificationAreaBase1\",\"properties\":[{\"name\":\"js_events\",\"kind\":\"Any\",\"default\":{\"type\":\"map\"}},{\"name\":\"position\",\"kind\":\"Any\",\"default\":\"bottom-right\"},{\"name\":\"_clear\",\"kind\":\"Any\",\"default\":0}]},{\"type\":\"model\",\"name\":\"NotificationArea1\",\"properties\":[{\"name\":\"js_events\",\"kind\":\"Any\",\"default\":{\"type\":\"map\"}},{\"name\":\"notifications\",\"kind\":\"Any\",\"default\":[]},{\"name\":\"position\",\"kind\":\"Any\",\"default\":\"bottom-right\"},{\"name\":\"_clear\",\"kind\":\"Any\",\"default\":0},{\"name\":\"types\",\"kind\":\"Any\",\"default\":[{\"type\":\"map\",\"entries\":[[\"type\",\"warning\"],[\"background\",\"#ffc107\"],[\"icon\",{\"type\":\"map\",\"entries\":[[\"className\",\"fas fa-exclamation-triangle\"],[\"tagName\",\"i\"],[\"color\",\"white\"]]}]]},{\"type\":\"map\",\"entries\":[[\"type\",\"info\"],[\"background\",\"#007bff\"],[\"icon\",{\"type\":\"map\",\"entries\":[[\"className\",\"fas fa-info-circle\"],[\"tagName\",\"i\"],[\"color\",\"white\"]]}]]}]}]},{\"type\":\"model\",\"name\":\"Notification\",\"properties\":[{\"name\":\"background\",\"kind\":\"Any\",\"default\":null},{\"name\":\"duration\",\"kind\":\"Any\",\"default\":3000},{\"name\":\"icon\",\"kind\":\"Any\",\"default\":null},{\"name\":\"message\",\"kind\":\"Any\",\"default\":\"\"},{\"name\":\"notification_type\",\"kind\":\"Any\",\"default\":null},{\"name\":\"_destroyed\",\"kind\":\"Any\",\"default\":false}]},{\"type\":\"model\",\"name\":\"TemplateActions1\",\"properties\":[{\"name\":\"open_modal\",\"kind\":\"Any\",\"default\":0},{\"name\":\"close_modal\",\"kind\":\"Any\",\"default\":0}]},{\"type\":\"model\",\"name\":\"BootstrapTemplateActions1\",\"properties\":[{\"name\":\"open_modal\",\"kind\":\"Any\",\"default\":0},{\"name\":\"close_modal\",\"kind\":\"Any\",\"default\":0}]},{\"type\":\"model\",\"name\":\"TemplateEditor1\",\"properties\":[{\"name\":\"layout\",\"kind\":\"Any\",\"default\":[]}]},{\"type\":\"model\",\"name\":\"MaterialTemplateActions1\",\"properties\":[{\"name\":\"open_modal\",\"kind\":\"Any\",\"default\":0},{\"name\":\"close_modal\",\"kind\":\"Any\",\"default\":0}]},{\"type\":\"model\",\"name\":\"copy_to_clipboard1\",\"properties\":[{\"name\":\"fill\",\"kind\":\"Any\",\"default\":\"none\"},{\"name\":\"value\",\"kind\":\"Any\",\"default\":null}]}]}};\n",
       "  var render_items = [{\"docid\":\"dadb4ff1-f269-4b6a-b551-f259e48c2cd7\",\"roots\":{\"p1451\":\"e7c609c6-3f5f-409a-9f2f-dcc6e96d36f2\"},\"root_ids\":[\"p1451\"]}];\n",
       "  var docs = Object.values(docs_json)\n",
       "  if (!docs) {\n",
       "    return\n",
       "  }\n",
       "  const py_version = docs[0].version.replace('rc', '-rc.').replace('.dev', '-dev.')\n",
       "  async function embed_document(root) {\n",
       "    var Bokeh = get_bokeh(root)\n",
       "    await Bokeh.embed.embed_items_notebook(docs_json, render_items);\n",
       "    for (const render_item of render_items) {\n",
       "      for (const root_id of render_item.root_ids) {\n",
       "\tconst id_el = document.getElementById(root_id)\n",
       "\tif (id_el.children.length && id_el.children[0].hasAttribute('data-root-id')) {\n",
       "\t  const root_el = id_el.children[0]\n",
       "\t  root_el.id = root_el.id + '-rendered'\n",
       "\t  for (const child of root_el.children) {\n",
       "            // Ensure JupyterLab does not capture keyboard shortcuts\n",
       "            // see: https://jupyterlab.readthedocs.io/en/4.1.x/extension/notebook.html#keyboard-interaction-model\n",
       "\t    child.setAttribute('data-lm-suppress-shortcuts', 'true')\n",
       "\t  }\n",
       "\t}\n",
       "      }\n",
       "    }\n",
       "  }\n",
       "  function get_bokeh(root) {\n",
       "    if (root.Bokeh === undefined) {\n",
       "      return null\n",
       "    } else if (root.Bokeh.version !== py_version) {\n",
       "      if (root.Bokeh.versions === undefined || !root.Bokeh.versions.has(py_version)) {\n",
       "\treturn null\n",
       "      }\n",
       "      return root.Bokeh.versions.get(py_version);\n",
       "    } else if (root.Bokeh.version === py_version) {\n",
       "      return root.Bokeh\n",
       "    }\n",
       "    return null\n",
       "  }\n",
       "  function is_loaded(root) {\n",
       "    var Bokeh = get_bokeh(root)\n",
       "    return (Bokeh != null && Bokeh.Panel !== undefined)\n",
       "  }\n",
       "  if (is_loaded(root)) {\n",
       "    embed_document(root);\n",
       "  } else {\n",
       "    var attempts = 0;\n",
       "    var timer = setInterval(function(root) {\n",
       "      if (is_loaded(root)) {\n",
       "        clearInterval(timer);\n",
       "        embed_document(root);\n",
       "      } else if (document.readyState == \"complete\") {\n",
       "        attempts++;\n",
       "        if (attempts > 200) {\n",
       "          clearInterval(timer);\n",
       "\t  var Bokeh = get_bokeh(root)\n",
       "\t  if (Bokeh == null || Bokeh.Panel == null) {\n",
       "            console.warn(\"Panel: ERROR: Unable to run Panel code because Bokeh or Panel library is missing\");\n",
       "\t  } else {\n",
       "\t    console.warn(\"Panel: WARNING: Attempting to render but not all required libraries could be resolved.\")\n",
       "\t    embed_document(root)\n",
       "\t  }\n",
       "        }\n",
       "      }\n",
       "    }, 25, root)\n",
       "  }\n",
       "})(window);</script>"
      ],
      "text/plain": [
       ":Overlay\n",
       "   .WMTS.I   :WMTS   [Longitude,Latitude]\n",
       "   .Points.I :Points   [Lng,Lat]   (Humidity,City,Country,Hotel Name)"
      ]
     },
     "execution_count": 27,
     "metadata": {
      "application/vnd.holoviews_exec.v0+json": {
       "id": "p1451"
      }
     },
     "output_type": "execute_result"
    }
   ],
   "source": [
    "%%capture --no-display\n",
    "\n",
    "# Configure the map plot\n",
    "hotel_map = hotel_df.hvplot.points(\n",
    "    \"Lng\",\n",
    "    \"Lat\",\n",
    "    geo=True,\n",
    "    size=\"Humidity\",\n",
    "    color=\"Humidity\",\n",
    "    tiles=\"OSM\",\n",
    "    hover_cols=[\"City\", \"Country\", \"Hotel Name\"],\n",
    "    frame_width=700,\n",
    "    frame_height=500,\n",
    "    title=\"Hotel Finder Map\"\n",
    ")\n",
    "\n",
    "# Display the map\n",
    "hotel_map\n"
   ]
  },
  {
   "cell_type": "code",
   "execution_count": null,
   "metadata": {},
   "outputs": [],
   "source": []
  }
 ],
 "metadata": {
  "kernelspec": {
   "display_name": "base",
   "language": "python",
   "name": "python3"
  },
  "language_info": {
   "codemirror_mode": {
    "name": "ipython",
    "version": 3
   },
   "file_extension": ".py",
   "mimetype": "text/x-python",
   "name": "python",
   "nbconvert_exporter": "python",
   "pygments_lexer": "ipython3",
   "version": "3.12.4"
  },
  "latex_envs": {
   "LaTeX_envs_menu_present": true,
   "autoclose": false,
   "autocomplete": true,
   "bibliofile": "biblio.bib",
   "cite_by": "apalike",
   "current_citInitial": 1,
   "eqLabelWithNumbers": true,
   "eqNumInitial": 1,
   "hotkeys": {
    "equation": "Ctrl-E",
    "itemize": "Ctrl-I"
   },
   "labels_anchors": false,
   "latex_user_defs": false,
   "report_style_numbering": false,
   "user_envs_cfg": false
  }
 },
 "nbformat": 4,
 "nbformat_minor": 4
}
